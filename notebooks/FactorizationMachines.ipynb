{
 "cells": [
  {
   "cell_type": "markdown",
   "metadata": {},
   "source": [
    "# Factorization Machines\n",
    "論文リンク：https://www.csie.ntu.edu.tw/~b97053/paper/Rendle2010FM.pdf   \n",
    "今回は[fastFM](https://github.com/ibayer/fastFM)というライブラリを使用して実装"
   ]
  },
  {
   "cell_type": "code",
   "execution_count": null,
   "metadata": {},
   "outputs": [],
   "source": [
    "#!pip instal fastFM"
   ]
  },
  {
   "cell_type": "code",
   "execution_count": null,
   "metadata": {},
   "outputs": [],
   "source": [
    "import os\n",
    "from time import time\n",
    "import numpy as np\n",
    "import pandas as pd\n",
    "from fastFM import sgd\n",
    "from sklearn.feature_extraction import DictVectorizer\n",
    "from sklearn.model_selection import train_test_split\n",
    "from sklearn.metrics import accuracy_score, roc_auc_score\n"
   ]
  },
  {
   "cell_type": "markdown",
   "metadata": {},
   "source": [
    "## データの入力\n",
    "fastFMで二値分類をする場合ラベルを{+1, -1}にする必要があるためデータセットのラベルを変換しなくてはいけない"
   ]
  },
  {
   "cell_type": "code",
   "execution_count": null,
   "metadata": {},
   "outputs": [],
   "source": [
    "# 単に{+1,-1}にするための関数\n",
    "def map_rating(x):\n",
    "    if x == 0:\n",
    "        return -1\n",
    "    else:\n",
    "        return 1\n",
    "    "
   ]
  },
  {
   "cell_type": "code",
   "execution_count": null,
   "metadata": {
    "scrolled": true
   },
   "outputs": [],
   "source": [
    "# メモリに乗り切らない場合はサンプルを減らす\n",
    "# 後のDictVectorizerで全量ないと予測・評価でコケるため一旦全てを結合する\n",
    "\n",
    "train_df = pd.read_csv('../data/MovieLens20M/classification/train20m.csv', nrows=20000)\n",
    "eval_df = pd.read_csv('../data/MovieLens20M/classification/eval20m.csv', nrows=20000)\n",
    "test_df = pd.read_csv('../data/MovieLens20M/classification/test20m.csv', nrows=20000)\n",
    "\n",
    "# fastFMのfit時に改めてtrain_test_splitされるためtrainとevalはこの後も一緒にする\n",
    "dataset = pd.concat([train_df, eval_df])\n",
    "dataset = pd.concat([dataset, test_df])\n",
    "test_size = len(test_df)\n",
    "\n",
    "print('Test data size: {}'.format(test_size))\n",
    "\n",
    "dataset.rating = dataset.rating.map(lambda x: map_rating(x))\n",
    "dataset.head()\n",
    "\n",
    "del train_df\n",
    "del eval_df\n",
    "del test_df\n"
   ]
  },
  {
   "cell_type": "code",
   "execution_count": null,
   "metadata": {},
   "outputs": [],
   "source": [
    "# DictVectorizer用にdictのlistを作成\n",
    "X_list = []\n",
    "\n",
    "# 目的変数はDictVectorizerにいれないのでそのまま分割\n",
    "# yは一次元にreshapeする（.reshape(-1,1)とかすると実行中にコケる）\n",
    "y_train = np.array(dataset.iloc[:-test_size,-1]).reshape(-1,)\n",
    "y_test = np.array(dataset.iloc[-test_size:,-1]).reshape(-1,)\n",
    "\n",
    "t1 = time()\n",
    "for row in dataset.iloc[:,:3].itertuples(index=False, name=None):\n",
    "    X_list.append({\"user\": str(int(row[0])), \"item\": str(int(row[1]))})\n",
    "t2 = time()\n",
    "print('Finished in {:.4f} seconds'.format(t2-t1))\n",
    "del dataset\n"
   ]
  },
  {
   "cell_type": "code",
   "execution_count": null,
   "metadata": {},
   "outputs": [],
   "source": [
    "print(len(X_list))"
   ]
  },
  {
   "cell_type": "code",
   "execution_count": null,
   "metadata": {},
   "outputs": [],
   "source": [
    "v = DictVectorizer()\n",
    "X = v.fit_transform(X_list)\n",
    "\n",
    "X_train = X[:-test_size]\n",
    "X_test = X[-test_size:]\n",
    "del X_list\n"
   ]
  },
  {
   "cell_type": "markdown",
   "metadata": {},
   "source": [
    "## 学習"
   ]
  },
  {
   "cell_type": "code",
   "execution_count": null,
   "metadata": {},
   "outputs": [],
   "source": [
    "fm = sgd.FMClassification(n_iter=1000000, init_stdev=0.1, l2_reg_w=0,\n",
    "                          l2_reg_V=0.01, rank=40, step_size=0.1)\n",
    "fm.fit(X_train, y_train)\n"
   ]
  },
  {
   "cell_type": "markdown",
   "metadata": {},
   "source": [
    "## 予測・評価"
   ]
  },
  {
   "cell_type": "code",
   "execution_count": null,
   "metadata": {},
   "outputs": [],
   "source": [
    "y_pred = fm.predict(X_test)\n",
    "auc = roc_auc_score(y_test, y_pred)\n",
    "accuracy = accuracy_score(y_test, np.round(y_pred))\n",
    "print('AUC: {:.4f}\\nAccuracy: {:.4f}'.format(auc, accuracy))\n"
   ]
  },
  {
   "cell_type": "code",
   "execution_count": null,
   "metadata": {},
   "outputs": [],
   "source": []
  },
  {
   "cell_type": "code",
   "execution_count": null,
   "metadata": {},
   "outputs": [],
   "source": []
  }
 ],
 "metadata": {
  "kernelspec": {
   "display_name": "Python 3",
   "language": "python",
   "name": "python3"
  },
  "language_info": {
   "codemirror_mode": {
    "name": "ipython",
    "version": 3
   },
   "file_extension": ".py",
   "mimetype": "text/x-python",
   "name": "python",
   "nbconvert_exporter": "python",
   "pygments_lexer": "ipython3",
   "version": "3.6.6"
  }
 },
 "nbformat": 4,
 "nbformat_minor": 2
}
