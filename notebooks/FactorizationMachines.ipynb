{
 "cells": [
  {
   "cell_type": "markdown",
   "metadata": {},
   "source": [
    "# Factorization Machines\n",
    "論文リンク：https://www.csie.ntu.edu.tw/~b97053/paper/Rendle2010FM.pdf   \n",
    "今回は[fastFM](https://github.com/ibayer/fastFM)というライブラリを使用して実装"
   ]
  },
  {
   "cell_type": "code",
   "execution_count": null,
   "metadata": {},
   "outputs": [],
   "source": [
    "#!pip instal fastFM"
   ]
  },
  {
   "cell_type": "code",
   "execution_count": null,
   "metadata": {},
   "outputs": [],
   "source": [
    "import os\n",
    "from time import time, gmtime, strftime\n",
    "from configparser import ConfigParser\n",
    "import numpy as np\n",
    "import pandas as pd\n",
    "import pickle\n",
    "from fastFM import sgd\n",
    "from sklearn.feature_extraction import DictVectorizer\n",
    "from sklearn.model_selection import train_test_split\n",
    "from sklearn.metrics import accuracy_score, roc_auc_score\n",
    "from utils import export_result\n"
   ]
  },
  {
   "cell_type": "code",
   "execution_count": null,
   "metadata": {},
   "outputs": [],
   "source": [
    "# configファイルの読み込み\n",
    "config_filename = './config/FM_config.ini'\n",
    "\n",
    "config = ConfigParser()\n",
    "config.read(config_filename)\n",
    "\n",
    "for key in config['model'].keys():\n",
    "    print(key,config['model'][key])\n"
   ]
  },
  {
   "cell_type": "code",
   "execution_count": null,
   "metadata": {},
   "outputs": [],
   "source": [
    "def config2paramDict(config):\n",
    "    '''configファイルのmodel部分をdictにして返す関数'''\n",
    "    param_dict = {}\n",
    "    for key in config['model'].keys():\n",
    "        if key == 'n_iter' or key == 'rank':\n",
    "            param_dict[key] = int(config['model'][key])\n",
    "        else:\n",
    "            param_dict[key] = float(config['model'][key])\n",
    "    return param_dict\n"
   ]
  },
  {
   "cell_type": "code",
   "execution_count": null,
   "metadata": {},
   "outputs": [],
   "source": [
    "param_dict = config2paramDict(config)\n",
    "print(param_dict)"
   ]
  },
  {
   "cell_type": "markdown",
   "metadata": {},
   "source": [
    "## データの入力\n",
    "fastFMで二値分類をする場合ラベルを{+1, -1}にする必要があるためデータセットのラベルを変換しなくてはいけない"
   ]
  },
  {
   "cell_type": "code",
   "execution_count": null,
   "metadata": {},
   "outputs": [],
   "source": [
    "# 単に{+1,-1}にするための関数\n",
    "def map_rating(x):\n",
    "    if x == 0:\n",
    "        return -1\n",
    "    else:\n",
    "        return 1\n",
    "    "
   ]
  },
  {
   "cell_type": "code",
   "execution_count": null,
   "metadata": {
    "scrolled": true
   },
   "outputs": [],
   "source": [
    "# メモリに乗り切らない場合はサンプルを減らす\n",
    "# 後のDictVectorizerで全量ないと予測・評価でコケるため一旦全てを結合する\n",
    "\n",
    "train_df = pd.read_csv('../data/MovieLens20M/classification/train20m.csv')\n",
    "eval_df = pd.read_csv('../data/MovieLens20M/classification/eval20m.csv')\n",
    "test_df = pd.read_csv('../data/MovieLens20M/classification/test20m.csv')\n",
    "\n",
    "# fastFMのfit時に改めてtrain_test_splitされるためtrainとevalはこの後も一緒にする\n",
    "dataset = pd.concat([train_df, eval_df])\n",
    "dataset = pd.concat([dataset, test_df])\n",
    "test_size = len(test_df)\n",
    "\n",
    "print('Test data size: {}'.format(test_size))\n",
    "\n",
    "dataset.rating = dataset.rating.map(lambda x: map_rating(x))\n",
    "dataset.head()\n",
    "\n",
    "del train_df\n",
    "del eval_df\n",
    "del test_df\n"
   ]
  },
  {
   "cell_type": "code",
   "execution_count": null,
   "metadata": {},
   "outputs": [],
   "source": [
    "# DictVectorizer用にdictのlistを作成\n",
    "X_list = []\n",
    "\n",
    "# 目的変数はDictVectorizerにいれないのでそのまま分割\n",
    "# yは一次元にreshapeする（.reshape(-1,1)とかすると実行中にコケる）\n",
    "y_train = np.array(dataset.iloc[:-test_size,-1]).reshape(-1,)\n",
    "y_test = np.array(dataset.iloc[-test_size:,-1]).reshape(-1,)\n",
    "\n",
    "t1 = time()\n",
    "for row in dataset.iloc[:,:3].itertuples(index=False, name=None):\n",
    "    X_list.append({\"user\": str(int(row[0])), \"item\": str(int(row[1]))})\n",
    "t2 = time()\n",
    "print('Finished in {:.4f} seconds'.format(t2-t1))\n",
    "del dataset\n"
   ]
  },
  {
   "cell_type": "code",
   "execution_count": null,
   "metadata": {},
   "outputs": [],
   "source": [
    "print(len(X_list))"
   ]
  },
  {
   "cell_type": "code",
   "execution_count": null,
   "metadata": {},
   "outputs": [],
   "source": [
    "v = DictVectorizer()\n",
    "X = v.fit_transform(X_list)\n",
    "\n",
    "X_train = X[:-test_size]\n",
    "X_test = X[-test_size:]\n",
    "del X_list\n"
   ]
  },
  {
   "cell_type": "markdown",
   "metadata": {},
   "source": [
    "## 学習"
   ]
  },
  {
   "cell_type": "code",
   "execution_count": null,
   "metadata": {},
   "outputs": [],
   "source": [
    "# 実行時間\n",
    "raw_execute_time = gmtime()\n",
    "execute_time = strftime(\"%Y%m%d_%H%M%S\", raw_execute_time )\n",
    "\n",
    "fm = sgd.FMClassification(n_iter=param_dict['n_iter'], \n",
    "                          init_stdev=param_dict['init_stdev'], \n",
    "                          l2_reg_w=param_dict['l2_reg_w'],\n",
    "                          l2_reg_V=param_dict['l2_reg_v'], \n",
    "                          rank=param_dict['rank'], \n",
    "                          step_size=param_dict['step_size'])\n",
    "fm.fit(X_train, y_train)\n"
   ]
  },
  {
   "cell_type": "markdown",
   "metadata": {},
   "source": [
    "##### モデルファイルの保存"
   ]
  },
  {
   "cell_type": "code",
   "execution_count": null,
   "metadata": {},
   "outputs": [],
   "source": [
    "filename = '../models/' + execute_time + '_FM.sav'\n",
    "pickle.dump(fm, open(filename, 'wb'))"
   ]
  },
  {
   "cell_type": "markdown",
   "metadata": {},
   "source": [
    "## 予測・評価"
   ]
  },
  {
   "cell_type": "code",
   "execution_count": null,
   "metadata": {},
   "outputs": [],
   "source": [
    "y_pred = fm.predict(X_test)\n",
    "auc = roc_auc_score(y_test, y_pred)\n",
    "accuracy = accuracy_score(y_test, np.round(y_pred))\n",
    "\n",
    "rankname = 'rank-' + str(param_dict['rank']) + ':'\n",
    "print('Accuracy:')\n",
    "print(rankname, '{:.4f}'.format(accuracy))\n"
   ]
  },
  {
   "cell_type": "code",
   "execution_count": null,
   "metadata": {},
   "outputs": [],
   "source": [
    "# 結果の出力\n",
    "model_name = 'FactorizationMachines'\n",
    "export_result(model_name, auc, accuracy, config_filename, execute_time)\n"
   ]
  },
  {
   "cell_type": "code",
   "execution_count": null,
   "metadata": {},
   "outputs": [],
   "source": []
  }
 ],
 "metadata": {
  "kernelspec": {
   "display_name": "Python 3",
   "language": "python",
   "name": "python3"
  },
  "language_info": {
   "codemirror_mode": {
    "name": "ipython",
    "version": 3
   },
   "file_extension": ".py",
   "mimetype": "text/x-python",
   "name": "python",
   "nbconvert_exporter": "python",
   "pygments_lexer": "ipython3",
   "version": "3.5.3"
  }
 },
 "nbformat": 4,
 "nbformat_minor": 2
}
